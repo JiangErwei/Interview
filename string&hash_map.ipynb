{
 "cells": [
  {
   "cell_type": "markdown",
   "id": "2bd4d2ec",
   "metadata": {},
   "source": [
    "#### C++ string\n",
    "\n",
    "主要包括，[参考](https://www.cnblogs.com/RioTian/p/12198568.html)：\n",
    "\n",
    "1. 构造函数（初始化）\n",
    "2. 取字符串属性值\n",
    "3. 元素的增删改查\n",
    "4. 与其他字符串的操作\n",
    "5. 遍历字符串"
   ]
  },
  {
   "cell_type": "code",
   "execution_count": 1,
   "id": "dae4f402",
   "metadata": {},
   "outputs": [],
   "source": [
    "#include \"iostream\"\n",
    "#include \"string\"\n",
    "using namespace std;"
   ]
  },
  {
   "cell_type": "code",
   "execution_count": 2,
   "id": "a894c0eb",
   "metadata": {},
   "outputs": [
    {
     "name": "stdout",
     "output_type": "stream",
     "text": [
      "abcde\n",
      "abcde\n",
      "bcd\n",
      "ffff\n",
      "abcd\n"
     ]
    }
   ],
   "source": [
    "// 初始化字符串\n",
    "string s1 = \"abcde\";    // 类C赋值\n",
    "string s2(\"abcde\");     // 构造函数\n",
    "string s3(s1, 1, 3);       // 构造函数 + 赋值起始位置\n",
    "string s4(4, 'f');      // 构造函数 + 同字符字符串\n",
    "string s5(s1.begin(), s1.end()-1); // 构造函数 + 迭代器指定位置\n",
    "\n",
    "cout << s1 <<endl;\n",
    "cout << s2 <<endl;\n",
    "cout << s3 <<endl;\n",
    "cout << s4 <<endl;\n",
    "cout << s5 <<endl;"
   ]
  },
  {
   "cell_type": "code",
   "execution_count": 3,
   "id": "66d40eae",
   "metadata": {},
   "outputs": [
    {
     "name": "stdout",
     "output_type": "stream",
     "text": [
      "0\n",
      "5\n",
      "5\n"
     ]
    },
    {
     "data": {
      "text/plain": [
       "@0xffff8e510240"
      ]
     },
     "execution_count": 3,
     "metadata": {},
     "output_type": "execute_result"
    }
   ],
   "source": [
    "// 取字符串属性值\n",
    "cout << s1.empty() << endl;  // 返回bool值\n",
    "cout << s1.length() << endl; // 与size相同\n",
    "cout << s1.size() << endl;   // 与length相同"
   ]
  },
  {
   "cell_type": "code",
   "execution_count": 4,
   "id": "c4743ebb",
   "metadata": {},
   "outputs": [
    {
     "name": "stdout",
     "output_type": "stream",
     "text": [
      "abcdef\n",
      "abcdeAabcdef\n",
      "BabcdeAabcdef\n"
     ]
    }
   ],
   "source": [
    "// 增加元素\n",
    "string s(s1);\n",
    "s.push_back('f');  // 类栈操作，只能添加单个字符\n",
    "cout << s << endl;\n",
    "\n",
    "s.insert(0, \"A\");  // 指定位置添加string对象\n",
    "s.insert(0, s1);   // 指定位置添加string对象\n",
    "cout << s << endl;\n",
    "\n",
    "s.insert(s.begin(), 'B');  // 指定迭代器位置，只能添加字符\n",
    "cout << s << endl;"
   ]
  },
  {
   "cell_type": "code",
   "execution_count": 5,
   "id": "e28f9522",
   "metadata": {},
   "outputs": [
    {
     "name": "stdout",
     "output_type": "stream",
     "text": [
      "abcde\n",
      "abcd\n",
      "bcd\n",
      "b\n"
     ]
    }
   ],
   "source": [
    "// 删除元素\n",
    "string s(s1);\n",
    "cout << s << endl;\n",
    "\n",
    "s.pop_back();       // 删除最后一个元素\n",
    "cout << s << endl;\n",
    "\n",
    "s.erase(s.begin()); // 删除迭代器所指字符\n",
    "cout << s << endl;\n",
    "\n",
    "s.erase(1, 3);      // 删除指定位置字符串\n",
    "cout << s << endl;"
   ]
  },
  {
   "cell_type": "code",
   "execution_count": 6,
   "id": "11de2136",
   "metadata": {},
   "outputs": [
    {
     "name": "stdout",
     "output_type": "stream",
     "text": [
      "abcde\n",
      "aABCe\n",
      "aABCCe\n"
     ]
    }
   ],
   "source": [
    "// 修改字符串\n",
    "string s(s1);\n",
    "cout << s << endl;\n",
    "\n",
    "s.replace(1, 3, \"ABC\");  // 替换从1开始到3的字符串\n",
    "cout << s << endl;\n",
    "\n",
    "s.replace(s.begin()+1, s.begin()+3, \"ABC\");  // 替换从1开始到3的字符串\n",
    "cout << s << endl;"
   ]
  },
  {
   "cell_type": "code",
   "execution_count": 7,
   "id": "d4071c84",
   "metadata": {},
   "outputs": [
    {
     "name": "stdout",
     "output_type": "stream",
     "text": [
      "2\n",
      "12\n",
      "18446744073709551615\n",
      "2\n",
      "14\n"
     ]
    }
   ],
   "source": [
    "// 查找子串\n",
    "string s(\"abcdefghi+abcdefghi\");\n",
    "string sub(\"cde\");\n",
    "cout << s.find(sub) << endl;       // s从前向后匹配\n",
    "cout << s.rfind(sub) << endl;      // s从后往前匹配\n",
    "\n",
    "// 查找不到子串\n",
    "string sub1(\"fahj\");\n",
    "cout << s.find(sub1) << endl;\n",
    "// cout << s.find(sub1) == s.npos << endl;\n",
    "\n",
    "cout << s.find_first_of(sub) << endl;\n",
    "cout << s.find_last_of(sub) << endl;\n"
   ]
  },
  {
   "cell_type": "code",
   "execution_count": 8,
   "id": "c0314ab9",
   "metadata": {},
   "outputs": [
    {
     "data": {
      "text/plain": [
       "true"
      ]
     },
     "execution_count": 8,
     "metadata": {},
     "output_type": "execute_result"
    }
   ],
   "source": [
    "s.find(sub1) == s.npos"
   ]
  },
  {
   "cell_type": "code",
   "execution_count": null,
   "id": "6f1dec8c",
   "metadata": {},
   "outputs": [],
   "source": [
    "// 与其他字符串操作\n",
    "string s(\"abc\");\n",
    "cout << s.compare(\"ABC\") << endl;  // 相比，返回第一个字符的ASCII码差值"
   ]
  },
  {
   "cell_type": "code",
   "execution_count": null,
   "id": "ce3995a1",
   "metadata": {},
   "outputs": [],
   "source": [
    "// 遍历\n",
    "string s(\"abcdef\");\n",
    "for (int i(0); i < s.size(); ++i)\n",
    "    cout << s[i] << ' ';"
   ]
  },
  {
   "cell_type": "markdown",
   "id": "f28e9b18",
   "metadata": {},
   "source": [
    "#### C++ hash_map\n",
    "\n",
    "[参考](https://blog.csdn.net/Misty_Rain_/article/details/122971817)\n",
    "\n",
    "`std::unordered_map`是C++ STL中的一个关联容器，它可以用于存储键-值对。\n",
    "\n",
    "`unordered_map`内部使用哈希表来实现快速的查找和插入操作。\n",
    "\n",
    "基本使用方法：\n",
    "\n",
    "**定义和初始化**\n",
    "```cpp\n",
    "#include <unordered_map>\n",
    "std::unordered_map<KeyType, ValueType> myMap;\n",
    "myMap[key] = value;\n",
    "```\n",
    "\n",
    "**判断key是否存在**\n",
    "```cpp\n",
    "if (myMap.find(key) != myMap.end()) {\n",
    "    // 键存在于std::unordered_map中\n",
    "} else {\n",
    "    // 键不存在于std::unordered_map中\n",
    "}\n",
    "```\n",
    "\n",
    "**迭代器遍历**\n",
    "```cpp\n",
    "for (auto iter = myMap.begin(); iter != myMap.end(); ++iter) {\n",
    "    KeyType key = iter->first;\n",
    "    ValueType value = iter->second;\n",
    "    // 处理键值对\n",
    "}\n",
    "```\n",
    "\n",
    "**for遍历**\n",
    "\n",
    "C++11引入了范围for循环，也可以用于遍历;\n",
    "\n",
    "需要注意的是，在使用范围for循环时，循环变量的类型为`std::unordered_map<KeyType, ValueType>::value_type`，即一个键值对的类型。通过`const auto&`可以获取到每个键值对的引用，从而访问键和值。\n",
    "```cpp\n",
    "std::unordered_map<KeyType, ValueType> myMap;\n",
    "// 添加键值对\n",
    "myMap[key1] = value1;\n",
    "myMap[key2] = value2;\n",
    "myMap[key3] = value3;\n",
    "\n",
    "// 遍历std::unordered_map\n",
    "for (const auto& kvPair : myMap) {\n",
    "    std::cout << \"key: \" << kvPair.first << \", value: \" << kvPair.second << std::endl;\n",
    "}\n",
    "```\n"
   ]
  },
  {
   "cell_type": "code",
   "execution_count": null,
   "id": "0cf1414a",
   "metadata": {},
   "outputs": [],
   "source": [
    "// 定义和初始化\n",
    "#include \"unordered_map\"\n",
    "using namespace std;\n",
    "\n",
    "unordered_map<char,int> Hashmap;\n",
    "Hashmap['a'] = 1;\n",
    "Hashmap['b'] = 2;\n",
    "Hashmap['c'] = 3;\n",
    "\n",
    "Hashmap"
   ]
  },
  {
   "cell_type": "code",
   "execution_count": null,
   "id": "5c85ead3",
   "metadata": {},
   "outputs": [],
   "source": [
    "// 迭代器遍历，准确来说是无序的\n",
    "for (auto iter = Hashmap.begin(); iter != Hashmap.end(); ++iter) \n",
    "    cout << iter->first << ':' << iter->second << endl;"
   ]
  },
  {
   "cell_type": "code",
   "execution_count": null,
   "id": "e3773266",
   "metadata": {},
   "outputs": [],
   "source": [
    "// for遍历\n",
    "for (auto it : Hashmap)\n",
    "    cout << it.first << ':' << it.second << endl;    "
   ]
  },
  {
   "cell_type": "code",
   "execution_count": null,
   "id": "4b7114e5",
   "metadata": {},
   "outputs": [],
   "source": [
    "Hashmap.size()"
   ]
  },
  {
   "cell_type": "code",
   "execution_count": null,
   "id": "6e42a29b",
   "metadata": {},
   "outputs": [],
   "source": [
    "Hashmap.empty()"
   ]
  },
  {
   "cell_type": "code",
   "execution_count": null,
   "id": "2c48f7e7",
   "metadata": {},
   "outputs": [],
   "source": [
    "Hashmap.erase('a');\n",
    "Hashmap"
   ]
  },
  {
   "cell_type": "code",
   "execution_count": null,
   "id": "babac860",
   "metadata": {},
   "outputs": [],
   "source": [
    "Hashmap.count('b') // count返回值只有0/1，也可以用来判断key是否存在"
   ]
  },
  {
   "cell_type": "markdown",
   "id": "50b99077",
   "metadata": {},
   "source": [
    "#### C++ hash_set\n",
    "\n",
    "`std::unordered_set`是 C++ STL 中的一个关联容器，用于存储一组唯一的对象。\n",
    "\n",
    "它的用法与`std::set`类似，但由于`std::unordered_set`是使用哈希表实现的，因此插入和查找的时间复杂度都是 O(1)，而`std::set`是使用红黑树实现的，插入和查找的时间复杂度是 O(log n)。\n",
    "\n",
    "`unordered_set`的实现其实就是`unordered_map`的key部分，API相似度也极高"
   ]
  },
  {
   "cell_type": "code",
   "execution_count": null,
   "id": "69e393d9",
   "metadata": {},
   "outputs": [],
   "source": [
    "#include <unordered_set>\n",
    "// 创建一个空的 unordered_set\n",
    "std::unordered_set<int> mySet;\n",
    "\n",
    "// 插入元素\n",
    "mySet.insert(1);\n",
    "mySet.insert(2);\n",
    "mySet.insert(3);\n",
    "mySet.insert(4);\n",
    "mySet.insert(5);\n",
    "\n",
    "// 查找元素 find\n",
    "if (mySet.find(3) != mySet.end()) {\n",
    "    std::cout << \"3 is in the set\" << std::endl;\n",
    "} else {\n",
    "    std::cout << \"3 is not in the set\" << std::endl;\n",
    "}\n",
    "\n",
    "// 删除元素 erase\n",
    "mySet.erase(4);\n",
    "\n",
    "// 遍历元素\n",
    "for (auto it = mySet.begin(); it != mySet.end(); ++it) {\n",
    "    std::cout << *it << \" \";\n",
    "}\n",
    "std::cout << std::endl;\n",
    "\n",
    "// 获取元素个数 size\n",
    "std::cout << \"The size of mySet is: \" << mySet.size() << std::endl;\n",
    "\n",
    "// 判断集合是否为空 empty\n",
    "if (mySet.empty()) {\n",
    "    std::cout << \"mySet is empty\" << std::endl;\n",
    "} else {\n",
    "    std::cout << \"mySet is not empty\" << std::endl;\n",
    "}\n"
   ]
  },
  {
   "cell_type": "code",
   "execution_count": null,
   "id": "cb620263",
   "metadata": {},
   "outputs": [],
   "source": [
    "mySet.count(10)"
   ]
  },
  {
   "cell_type": "code",
   "execution_count": null,
   "id": "3556bc2e",
   "metadata": {},
   "outputs": [],
   "source": []
  },
  {
   "cell_type": "code",
   "execution_count": null,
   "id": "7bfec5dd",
   "metadata": {},
   "outputs": [],
   "source": []
  },
  {
   "cell_type": "code",
   "execution_count": null,
   "id": "70926023",
   "metadata": {},
   "outputs": [],
   "source": []
  }
 ],
 "metadata": {
  "kernelspec": {
   "display_name": "C++11",
   "language": "C++11",
   "name": "xcpp11"
  },
  "language_info": {
   "codemirror_mode": "text/x-c++src",
   "file_extension": ".cpp",
   "mimetype": "text/x-c++src",
   "name": "c++",
   "version": "11"
  }
 },
 "nbformat": 4,
 "nbformat_minor": 5
}
