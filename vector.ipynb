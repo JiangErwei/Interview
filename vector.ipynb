{
 "cells": [
  {
   "cell_type": "markdown",
   "id": "b8247483",
   "metadata": {},
   "source": [
    "#### C++ vector\n",
    "\n",
    "在 C++ 中，`vector`是一个动态数组容器，它可以自动调整其大小。与数组不同，它可以在运行时增加或减少其大小。在头文件`vector`中定义。\n",
    "\n",
    "常用方法：\n",
    "1. 初始化\n",
    "2. 增删\n",
    "3. 其他方法"
   ]
  },
  {
   "cell_type": "code",
   "execution_count": 1,
   "id": "44c78c1f",
   "metadata": {},
   "outputs": [],
   "source": [
    "#include \"vector\"\n",
    "#include \"iostream\"\n",
    "using namespace std;"
   ]
  },
  {
   "cell_type": "code",
   "execution_count": 2,
   "id": "5a65c821",
   "metadata": {},
   "outputs": [
    {
     "data": {
      "text/plain": [
       "{ 1, 2, 3 }"
      ]
     },
     "execution_count": 2,
     "metadata": {},
     "output_type": "execute_result"
    }
   ],
   "source": [
    "// 初始化\n",
    "vector<int> vec = {1, 2, 3};\n",
    "vec"
   ]
  },
  {
   "cell_type": "code",
   "execution_count": 3,
   "id": "1f1ca041",
   "metadata": {},
   "outputs": [
    {
     "name": "stdout",
     "output_type": "stream",
     "text": [
      "3\n",
      "1\n",
      "3\n"
     ]
    },
    {
     "data": {
      "text/plain": [
       "@0xffff86500240"
      ]
     },
     "execution_count": 3,
     "metadata": {},
     "output_type": "execute_result"
    }
   ],
   "source": [
    "cout << vec.size() << endl;\n",
    "cout << vec.front() << endl; // 头元素值\n",
    "cout << vec.back() << endl;  // 尾元素值"
   ]
  },
  {
   "cell_type": "code",
   "execution_count": 4,
   "id": "d47435d8",
   "metadata": {},
   "outputs": [],
   "source": [
    "// 遍历\n",
    "void print(vector<int> vec) {\n",
    "    for (int v : vec)\n",
    "        cout << v << \" \";\n",
    "    cout << endl;\n",
    "}"
   ]
  },
  {
   "cell_type": "code",
   "execution_count": 5,
   "id": "2e8200d5",
   "metadata": {},
   "outputs": [
    {
     "name": "stdout",
     "output_type": "stream",
     "text": [
      "1 2 3 4 \n",
      "10 1 2 3 4 \n",
      "9 9 9 9 9 9 9 9 9 9 10 1 2 3 4 \n",
      "9 9 9 9 9 9 9 9 9 9 10 1 2 3 4 8 \n",
      "8 9 9 9 9 9 9 9 9 9 9 10 1 2 3 4 8 \n"
     ]
    }
   ],
   "source": [
    "// 增\n",
    "vec.push_back(4);\n",
    "print(vec);\n",
    "\n",
    "vec.insert(vec.begin(), 10);\n",
    "print(vec);\n",
    "    \n",
    "vec.insert(vec.begin(), 10, 9);\n",
    "print(vec);\n",
    "\n",
    "vec.emplace_back(8);\n",
    "print(vec);\n",
    "\n",
    "vec.emplace(vec.begin(), 8);\n",
    "print(vec);"
   ]
  },
  {
   "cell_type": "code",
   "execution_count": 6,
   "id": "e022f8e6",
   "metadata": {},
   "outputs": [
    {
     "name": "stdout",
     "output_type": "stream",
     "text": [
      "9 9 9 9 9 9 9 9 9 9 10 1 2 3 4 8 \n",
      "9 9 9 9 9 9 9 9 9 9 10 1 2 \n"
     ]
    }
   ],
   "source": [
    "// 删\n",
    "vec.erase(vec.begin());\n",
    "print(vec);\n",
    "\n",
    "vec.erase(vec.end() - 3, vec.end());\n",
    "print(vec);"
   ]
  },
  {
   "cell_type": "markdown",
   "id": "d8b3418e",
   "metadata": {},
   "source": [
    "`insert()`和`erase()`可以通过指定迭代器来在任意位置插入或删除元素，这使得`vector`的元素可以被高效地插入、删除和修改。\n",
    "\n",
    "`emplace()`和`emplace_back()`则可以通过使用参数构造元素，避免了额外的拷贝或移动操作，从而提高了效率。"
   ]
  },
  {
   "cell_type": "code",
   "execution_count": 7,
   "id": "9130cbc0",
   "metadata": {},
   "outputs": [
    {
     "name": "stdout",
     "output_type": "stream",
     "text": [
      "1 2 3 \n",
      "2 4 6 \n",
      "\n",
      "2 4 6 \n",
      "1 2 3 \n",
      "\n",
      "1 2 3 \n",
      "2 4 6 \n",
      "\n"
     ]
    }
   ],
   "source": [
    "// 交换\n",
    "vector<int> v1 = {1, 2, 3};\n",
    "vector<int> v2 = {2, 4, 6};\n",
    "print(v1); print(v2); cout << endl;\n",
    "\n",
    "v1.swap(v2);\n",
    "print(v1); print(v2); cout << endl;\n",
    "\n",
    "swap(v1, v2);\n",
    "print(v1); print(v2); cout << endl;"
   ]
  },
  {
   "cell_type": "code",
   "execution_count": 8,
   "id": "52fec9af",
   "metadata": {},
   "outputs": [
    {
     "name": "stdout",
     "output_type": "stream",
     "text": [
      "3 2 1 \n"
     ]
    }
   ],
   "source": [
    "// 逆序\n",
    "vector<int> v1 = {1, 2, 3};\n",
    "reverse(v1.begin(), v1.end());\n",
    "print(v1);"
   ]
  },
  {
   "cell_type": "markdown",
   "id": "d43f9312",
   "metadata": {},
   "source": [
    "#### STL中常用的容器算法\n",
    "\n",
    "需要引入头文件`algorithm`\n",
    "\n",
    "**常用，以下给出例子**\n",
    "\n",
    "    sort()：对容器中的元素进行排序，可以使用默认的从小到大排序，也可以自定义排序规则。\n",
    "    reverse()：将容器中的元素进行翻转。\n",
    "    max_element()：查找容器中的最大元素。\n",
    "    min_element()：查找容器中的最小元素。\n",
    "    distance()：计算两个迭代器之间的距离，从而得到容器的长度。\n",
    "    count()：计算容器中某个元素的个数。\n",
    "    copy()：将一个容器的元素复制到另一个容器中。\n",
    "    unique()：将容器中相邻的重复元素去除，只保留一个。\n",
    "    \n",
    "**以下暂不给出例子**\n",
    "\n",
    "    transform()：对容器中的每个元素进行变换，可以使用自定义的函数或函数对象进行变换。\n",
    "    find_if()：在容器中查找符合某种条件的元素，可以使用自定义的函数或函数对象进行查找。\n",
    "    replace()：将容器中的某个元素替换为另一个元素。\n",
    "    shuffle()：对容器中的元素进行随机排序。\n",
    "    merge()：将两个有序容器合并为一个有序容器。\n",
    "    unique_copy()：将容器中相邻的重复元素去除，只保留一个，并将结果复制到另一个容器中。\n",
    "    fill()：将容器中的所有元素填充为指定值。"
   ]
  },
  {
   "cell_type": "code",
   "execution_count": 9,
   "id": "7963a212",
   "metadata": {},
   "outputs": [],
   "source": [
    "#include \"algorithm\""
   ]
  },
  {
   "cell_type": "markdown",
   "id": "353b290b",
   "metadata": {},
   "source": [
    "**以下是`sort`例子**\n",
    "\n",
    "从以下例子中可以看到，应当是常用的序列对象，都可以用相同方法进行排序"
   ]
  },
  {
   "cell_type": "code",
   "execution_count": 10,
   "id": "344033d0",
   "metadata": {},
   "outputs": [
    {
     "data": {
      "text/plain": [
       "{ 0, 1, 2, 3, 5, 6 }"
      ]
     },
     "execution_count": 10,
     "metadata": {},
     "output_type": "execute_result"
    }
   ],
   "source": [
    "// 对容器排序\n",
    "vector<int> Vec = {2, 5, 6, 0, 3, 1};\n",
    "sort(Vec.begin(), Vec.end());\n",
    "Vec"
   ]
  },
  {
   "cell_type": "code",
   "execution_count": 11,
   "id": "a68469e4",
   "metadata": {},
   "outputs": [
    {
     "data": {
      "text/plain": [
       "\"adfhos\""
      ]
     },
     "execution_count": 11,
     "metadata": {},
     "output_type": "execute_result"
    }
   ],
   "source": [
    "// 对字符串排序\n",
    "string S(\"dfhsao\");\n",
    "sort(S.begin(), S.end());\n",
    "S"
   ]
  },
  {
   "cell_type": "code",
   "execution_count": 12,
   "id": "1f9ed18c",
   "metadata": {},
   "outputs": [
    {
     "data": {
      "text/plain": [
       "\"sohfda\""
      ]
     },
     "execution_count": 12,
     "metadata": {},
     "output_type": "execute_result"
    }
   ],
   "source": [
    "bool cmp(int a, int b) {\n",
    "    return a > b; // 降序排序\n",
    "}\n",
    "sort(S.begin(), S.end(), cmp);\n",
    "S"
   ]
  },
  {
   "cell_type": "code",
   "execution_count": 13,
   "id": "c4c76bc6",
   "metadata": {},
   "outputs": [
    {
     "data": {
      "text/plain": [
       "{ 0, 1, 2, 3, 5, 6 }"
      ]
     },
     "execution_count": 13,
     "metadata": {},
     "output_type": "execute_result"
    }
   ],
   "source": [
    "// 对数组排序\n",
    "int Arr[6] = {2, 5, 6, 0, 3, 1};\n",
    "sort(Arr, Arr + 6); // 6为length\n",
    "Arr"
   ]
  },
  {
   "cell_type": "markdown",
   "id": "31dbba28",
   "metadata": {},
   "source": [
    "**`reverse`**"
   ]
  },
  {
   "cell_type": "code",
   "execution_count": 14,
   "id": "9658214b",
   "metadata": {},
   "outputs": [
    {
     "data": {
      "text/plain": [
       "{ 1, 3, 0, 6, 5, 2 }"
      ]
     },
     "execution_count": 14,
     "metadata": {},
     "output_type": "execute_result"
    }
   ],
   "source": [
    "// 对容器逆序\n",
    "vector<int> Vec = {2, 5, 6, 0, 3, 1};\n",
    "reverse(Vec.begin(), Vec.end());\n",
    "Vec"
   ]
  },
  {
   "cell_type": "code",
   "execution_count": 15,
   "id": "652f0036",
   "metadata": {},
   "outputs": [
    {
     "data": {
      "text/plain": [
       "\"oashfd\""
      ]
     },
     "execution_count": 15,
     "metadata": {},
     "output_type": "execute_result"
    }
   ],
   "source": [
    "// 对string逆序\n",
    "string S(\"dfhsao\");\n",
    "reverse(S.begin(), S.end());\n",
    "S"
   ]
  },
  {
   "cell_type": "code",
   "execution_count": 16,
   "id": "ec441065",
   "metadata": {},
   "outputs": [
    {
     "data": {
      "text/plain": [
       "{ 1, 3, 0, 6, 5, 2 }"
      ]
     },
     "execution_count": 16,
     "metadata": {},
     "output_type": "execute_result"
    }
   ],
   "source": [
    "// 对数组逆序\n",
    "int Arr[6] = {2, 5, 6, 0, 3, 1};\n",
    "reverse(Arr, Arr + 6); // 6为length\n",
    "Arr"
   ]
  },
  {
   "cell_type": "markdown",
   "id": "8bb61873",
   "metadata": {},
   "source": [
    "**`max_element`和`min_element`**\n",
    "\n",
    "可以看到，该算法返回的是指针，而非具体值"
   ]
  },
  {
   "cell_type": "code",
   "execution_count": 17,
   "id": "caa41466",
   "metadata": {},
   "outputs": [
    {
     "data": {
      "text/plain": [
       "6"
      ]
     },
     "execution_count": 17,
     "metadata": {},
     "output_type": "execute_result"
    }
   ],
   "source": [
    "// 对容器取max\n",
    "vector<int> Vec = {2, 5, 6, 0, 3, 1};\n",
    "*max_element(Vec.begin(), Vec.end())"
   ]
  },
  {
   "cell_type": "code",
   "execution_count": 18,
   "id": "a1142d41",
   "metadata": {},
   "outputs": [
    {
     "data": {
      "text/plain": [
       "'s'"
      ]
     },
     "execution_count": 18,
     "metadata": {},
     "output_type": "execute_result"
    }
   ],
   "source": [
    "// 对string取max\n",
    "string S(\"dfhsao\");\n",
    "*max_element(S.begin(), S.end())"
   ]
  },
  {
   "cell_type": "code",
   "execution_count": 19,
   "id": "1f1cad7d",
   "metadata": {},
   "outputs": [
    {
     "data": {
      "text/plain": [
       "6"
      ]
     },
     "execution_count": 19,
     "metadata": {},
     "output_type": "execute_result"
    }
   ],
   "source": [
    "// 对数组取max\n",
    "int Arr[6] = {2, 5, 6, 0, 3, 1};\n",
    "*max_element(Arr, Arr + 6) // 6为length"
   ]
  },
  {
   "cell_type": "markdown",
   "id": "63057598",
   "metadata": {},
   "source": [
    "**`distance`**"
   ]
  },
  {
   "cell_type": "code",
   "execution_count": 20,
   "id": "e6438ba4",
   "metadata": {},
   "outputs": [
    {
     "data": {
      "text/plain": [
       "6"
      ]
     },
     "execution_count": 20,
     "metadata": {},
     "output_type": "execute_result"
    }
   ],
   "source": [
    "// 对容器取长度\n",
    "vector<int> Vec = {2, 5, 6, 0, 3, 1};\n",
    "distance(Vec.begin(), Vec.end())"
   ]
  },
  {
   "cell_type": "code",
   "execution_count": 21,
   "id": "c2d13014",
   "metadata": {},
   "outputs": [
    {
     "data": {
      "text/plain": [
       "6"
      ]
     },
     "execution_count": 21,
     "metadata": {},
     "output_type": "execute_result"
    }
   ],
   "source": [
    "// 对string取长度\n",
    "string S(\"dfhsao\");\n",
    "distance(S.begin(), S.end())"
   ]
  },
  {
   "cell_type": "code",
   "execution_count": 22,
   "id": "0e9d981a",
   "metadata": {},
   "outputs": [
    {
     "data": {
      "text/plain": [
       "6"
      ]
     },
     "execution_count": 22,
     "metadata": {},
     "output_type": "execute_result"
    }
   ],
   "source": [
    "// 对数组算长度，需要用到sizeof\n",
    "\n",
    "int arr[] = {2, 5, 6, 0, 3, 1};\n",
    "int len = sizeof(arr) / sizeof(arr[0]);\n",
    "len"
   ]
  },
  {
   "cell_type": "markdown",
   "id": "e136c718",
   "metadata": {},
   "source": [
    "**`count`**\n",
    "\n",
    "count不支持数组"
   ]
  },
  {
   "cell_type": "code",
   "execution_count": 23,
   "id": "28e92fb2",
   "metadata": {},
   "outputs": [
    {
     "data": {
      "text/plain": [
       "2"
      ]
     },
     "execution_count": 23,
     "metadata": {},
     "output_type": "execute_result"
    }
   ],
   "source": [
    "// 对容器中某元素求出现次数\n",
    "vector<int> Vec = {2, 5, 6, 0, 3, 1, 0};\n",
    "count(Vec.begin(), Vec.end(), 0)"
   ]
  },
  {
   "cell_type": "code",
   "execution_count": 24,
   "id": "0ef4d043",
   "metadata": {},
   "outputs": [
    {
     "data": {
      "text/plain": [
       "7"
      ]
     },
     "execution_count": 24,
     "metadata": {},
     "output_type": "execute_result"
    }
   ],
   "source": [
    "// 对string中某元素求出现次数\n",
    "string S(\"dfhsaoaaaaaa\");\n",
    "count(S.begin(), S.end(), 'a')"
   ]
  },
  {
   "cell_type": "code",
   "execution_count": 25,
   "id": "385013fa",
   "metadata": {},
   "outputs": [],
   "source": [
    "// 对数组中某元素求出现次数\n",
    "// count不支持数组"
   ]
  },
  {
   "cell_type": "markdown",
   "id": "5d333865",
   "metadata": {},
   "source": [
    "**`copy`**\n",
    "\n",
    "需要注意，序列对象需要调整其size"
   ]
  },
  {
   "cell_type": "code",
   "execution_count": 33,
   "id": "288cf1c3",
   "metadata": {},
   "outputs": [
    {
     "data": {
      "text/plain": [
       "{ 0, 2, 5, 6, 0, 3, 1, 0, 0, 0 }"
      ]
     },
     "execution_count": 33,
     "metadata": {},
     "output_type": "execute_result"
    }
   ],
   "source": [
    "// copy容器\n",
    "vector<int> Vec = {2, 5, 6, 0, 3, 1};\n",
    "vector<int> Vc;\n",
    "Vc.resize(10);\n",
    "copy(Vec.begin(), Vec.end(), Vc.begin() + 1);\n",
    "Vc"
   ]
  },
  {
   "cell_type": "code",
   "execution_count": 37,
   "id": "13d65d50",
   "metadata": {},
   "outputs": [
    {
     "data": {
      "text/plain": [
       "\"dfhsao\u0000\u0000\u0000\u0000\""
      ]
     },
     "execution_count": 37,
     "metadata": {},
     "output_type": "execute_result"
    }
   ],
   "source": [
    "// copy string\n",
    "string S(\"dfhsao\");\n",
    "string Sc;\n",
    "Sc.resize(10);\n",
    "copy(S.begin(), S.end(), Sc.begin());\n",
    "Sc"
   ]
  },
  {
   "cell_type": "code",
   "execution_count": 38,
   "id": "9e0f5023",
   "metadata": {},
   "outputs": [
    {
     "data": {
      "text/plain": [
       "{ 2, 5, 6, 0, 3, 1 }"
      ]
     },
     "execution_count": 38,
     "metadata": {},
     "output_type": "execute_result"
    }
   ],
   "source": [
    "// copy 数组\n",
    "int Arr[6] = {2, 5, 6, 0, 3, 1};\n",
    "int Ac[6];\n",
    "copy(Arr, Arr + 6, Ac); // 6为length\n",
    "Ac"
   ]
  },
  {
   "cell_type": "markdown",
   "id": "3d2503e5",
   "metadata": {},
   "source": [
    "**`unique`**\n",
    "\n",
    "需要注意，去重后的序列排在前面，返回的是重复元素的指针"
   ]
  },
  {
   "cell_type": "code",
   "execution_count": 46,
   "id": "25a108e6",
   "metadata": {},
   "outputs": [
    {
     "name": "stdout",
     "output_type": "stream",
     "text": [
      "1 2 3 4 5 3 3 4 5 5 \n",
      "3"
     ]
    }
   ],
   "source": [
    "// 容器去重\n",
    "vector<int> Vec = {1, 1, 2, 2, 3, 3, 3, 4, 5, 5};\n",
    "auto last = unique(Vec.begin(), Vec.end());\n",
    "print(Vec);\n",
    "cout << *last;"
   ]
  },
  {
   "cell_type": "code",
   "execution_count": 47,
   "id": "a460709f",
   "metadata": {},
   "outputs": [
    {
     "name": "stdout",
     "output_type": "stream",
     "text": [
      "1234533455\n",
      "3"
     ]
    }
   ],
   "source": [
    "// string去重\n",
    "string S(\"1122333455\");\n",
    "auto last = unique(S.begin(), S.end());\n",
    "cout << S;\n",
    "cout << endl << *last;"
   ]
  },
  {
   "cell_type": "code",
   "execution_count": 41,
   "id": "77c5efaf",
   "metadata": {},
   "outputs": [
    {
     "data": {
      "text/plain": [
       "{ 1, 2, 3, 4, 5, 3, 3, 4, 5, 5 }"
      ]
     },
     "execution_count": 41,
     "metadata": {},
     "output_type": "execute_result"
    }
   ],
   "source": [
    "// 数组去重\n",
    "int Arr[10] = {1, 1, 2, 2, 3, 3, 3, 4, 5, 5};\n",
    "auto last = unique(Arr, Arr + 10);\n",
    "Arr"
   ]
  },
  {
   "cell_type": "code",
   "execution_count": null,
   "id": "e2f6c985",
   "metadata": {},
   "outputs": [],
   "source": []
  },
  {
   "cell_type": "code",
   "execution_count": null,
   "id": "16656819",
   "metadata": {},
   "outputs": [],
   "source": []
  },
  {
   "cell_type": "code",
   "execution_count": null,
   "id": "7b6e38c3",
   "metadata": {},
   "outputs": [],
   "source": []
  },
  {
   "cell_type": "code",
   "execution_count": null,
   "id": "80418c58",
   "metadata": {},
   "outputs": [],
   "source": []
  },
  {
   "cell_type": "code",
   "execution_count": null,
   "id": "e579f180",
   "metadata": {},
   "outputs": [],
   "source": []
  },
  {
   "cell_type": "code",
   "execution_count": 49,
   "id": "ea35c8e2",
   "metadata": {},
   "outputs": [
    {
     "name": "stdout",
     "output_type": "stream",
     "text": [
      "18446744073709551615\n"
     ]
    },
    {
     "data": {
      "text/plain": [
       "@0xffff86500240"
      ]
     },
     "execution_count": 49,
     "metadata": {},
     "output_type": "execute_result"
    }
   ],
   "source": [
    "string s(\"abcdefghi+abcdefghi\");\n",
    "string sub(\"cdea\");\n",
    "cout << s.find(sub) << endl;       // s从前向后匹配"
   ]
  },
  {
   "cell_type": "code",
   "execution_count": null,
   "id": "f084ab3d",
   "metadata": {},
   "outputs": [],
   "source": []
  }
 ],
 "metadata": {
  "kernelspec": {
   "display_name": "C++11",
   "language": "C++11",
   "name": "xcpp11"
  },
  "language_info": {
   "codemirror_mode": "text/x-c++src",
   "file_extension": ".cpp",
   "mimetype": "text/x-c++src",
   "name": "c++",
   "version": "11"
  }
 },
 "nbformat": 4,
 "nbformat_minor": 5
}
