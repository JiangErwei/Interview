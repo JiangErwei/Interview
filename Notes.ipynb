{
 "cells": [
  {
   "cell_type": "markdown",
   "id": "88655969",
   "metadata": {},
   "source": [
    "### Notes\n",
    "\n",
    "#### 1. 字符串函数\n",
    "\n",
    "参考Blog：https://blog.csdn.net/QLeelq/article/details/121056435\n",
    "\n",
    "关于字符串拼接：\n",
    "- Python ： 不推荐使用字符串直接 res += s[i] 拼接，\n",
    "- 在 Python 中字符串是「不可变对象」，每次字符串拼接都会生成一个新字符串，效率低下。\n",
    "- 推荐使用列表，先将结果按照顺序添加，最终返回前拼接为字符串，因此只需要一次拼接操作。"
   ]
  },
  {
   "cell_type": "code",
   "execution_count": 6,
   "id": "6d6a0ccb",
   "metadata": {},
   "outputs": [
    {
     "name": "stdout",
     "output_type": "stream",
     "text": [
      "abc\n",
      "a-b-c\n",
      "a,b,c\n"
     ]
    }
   ],
   "source": [
    "# 采用列表收集，join拼接方法\n",
    "arr = ['a','b','c']\n",
    "print(''.join(arr))\n",
    "print('-'.join(arr))\n",
    "print(','.join(arr))"
   ]
  },
  {
   "cell_type": "code",
   "execution_count": null,
   "id": "2bde7933",
   "metadata": {},
   "outputs": [],
   "source": []
  },
  {
   "attachments": {
    "image.png": {
     "image/png": "[encoded data removed]"
    }
   },
   "cell_type": "markdown",
   "id": "bd630b1b",
   "metadata": {},
   "source": [
    "#### 2. zip()函数\n",
    "\n",
    "zip() 函数用于将可迭代的对象作为参数，将对象中对应的元素打包成一个个元组，然后返回由这些元组组成的对象，这样做的好处是节约了不少的内存。\n",
    "\n",
    "我们可以使用 list() 转换来输出列表。\n",
    "\n",
    "如果各个迭代器的元素个数不一致，则返回列表长度与最短的对象相同\n",
    "\n",
    "https://www.bbsmax.com/A/kvJ3wDKQJg/\n",
    "\n",
    "![image.png](attachment:image.png)"
   ]
  },
  {
   "cell_type": "code",
   "execution_count": 13,
   "id": "8e3e1e3b",
   "metadata": {},
   "outputs": [
    {
     "data": {
      "text/plain": [
       "[(1, 3, 5), (2, 4, 6)]"
      ]
     },
     "execution_count": 13,
     "metadata": {},
     "output_type": "execute_result"
    }
   ],
   "source": [
    "# zip将列表对应位置元素进行打包\n",
    "a = [1, 2]\n",
    "b = [3, 4]\n",
    "c = [5, 6]\n",
    "list(zip(a, b, c))"
   ]
  },
  {
   "cell_type": "code",
   "execution_count": 16,
   "id": "e31cd207",
   "metadata": {},
   "outputs": [
    {
     "data": {
      "text/plain": [
       "[(1, 3, 5), (2, 4, 6)]"
      ]
     },
     "execution_count": 16,
     "metadata": {},
     "output_type": "execute_result"
    }
   ],
   "source": [
    "# 如果各个迭代器的元素个数不一致，则返回列表长度与最短的对象相同\n",
    "a = [1, 2]\n",
    "b = [3, 4, 10]\n",
    "c = [5, 6, 100, 1000]\n",
    "list(zip(a, b, c))"
   ]
  },
  {
   "cell_type": "markdown",
   "id": "7ee17585",
   "metadata": {},
   "source": [
    "python中星号'*'用法\n",
    "\n",
    "https://blog.csdn.net/zkk9527/article/details/88675129"
   ]
  },
  {
   "cell_type": "code",
   "execution_count": 15,
   "id": "e45b4917",
   "metadata": {},
   "outputs": [
    {
     "data": {
      "text/plain": [
       "[(1, 3, 5), (2, 4, 6)]"
      ]
     },
     "execution_count": 15,
     "metadata": {},
     "output_type": "execute_result"
    }
   ],
   "source": [
    "# *的用法 - 类似于取出迭代器中的每个元素\n",
    "S = [a, b, c]\n",
    "list(zip(*S))"
   ]
  },
  {
   "cell_type": "code",
   "execution_count": null,
   "id": "528ca2dc",
   "metadata": {},
   "outputs": [],
   "source": []
  },
  {
   "cell_type": "markdown",
   "id": "a3677425",
   "metadata": {},
   "source": [
    "#### 3. 列表反转\n",
    "https://blog.csdn.net/LHJCSDNYL/article/details/122265164\n",
    "\n",
    "主要介绍两种：\n",
    "- reverse方法\n",
    "- 列表切片"
   ]
  },
  {
   "cell_type": "code",
   "execution_count": 25,
   "id": "dfa6119d",
   "metadata": {},
   "outputs": [
    {
     "data": {
      "text/plain": [
       "[4, 3, 2, 1]"
      ]
     },
     "execution_count": 25,
     "metadata": {},
     "output_type": "execute_result"
    }
   ],
   "source": [
    "# reverse方法\n",
    "a = [1, 2, 3, 4]\n",
    "a.reverse()\n",
    "a"
   ]
  },
  {
   "cell_type": "code",
   "execution_count": 26,
   "id": "e18a31bd",
   "metadata": {},
   "outputs": [
    {
     "data": {
      "text/plain": [
       "[4, 3, 2, 1]"
      ]
     },
     "execution_count": 26,
     "metadata": {},
     "output_type": "execute_result"
    }
   ],
   "source": [
    "# 切片\n",
    "a = [1, 2, 3, 4]\n",
    "a[::-1]"
   ]
  },
  {
   "cell_type": "code",
   "execution_count": null,
   "id": "9febe1c0",
   "metadata": {},
   "outputs": [],
   "source": []
  },
  {
   "cell_type": "code",
   "execution_count": null,
   "id": "f7df47f4",
   "metadata": {},
   "outputs": [],
   "source": []
  }
 ],
 "metadata": {
  "kernelspec": {
   "display_name": "Python 3 (ipykernel)",
   "language": "python",
   "name": "python3"
  },
  "language_info": {
   "codemirror_mode": {
    "name": "ipython",
    "version": 3
   },
   "file_extension": ".py",
   "mimetype": "text/x-python",
   "name": "python",
   "nbconvert_exporter": "python",
   "pygments_lexer": "ipython3",
   "version": "3.8.13"
  }
 },
 "nbformat": 4,
 "nbformat_minor": 5
}
